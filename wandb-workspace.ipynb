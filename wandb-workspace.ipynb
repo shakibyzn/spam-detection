{
 "cells": [
  {
   "cell_type": "code",
   "execution_count": 13,
   "metadata": {},
   "outputs": [],
   "source": [
    "import wandb\n",
    "import wandb_workspaces.reports.v2 as wr\n",
    "import wandb_workspaces.workspaces as ws"
   ]
  },
  {
   "cell_type": "code",
   "execution_count": 5,
   "metadata": {},
   "outputs": [],
   "source": [
    "import os\n",
    "os.environ['WANDB_API_KEY'] = ''\n",
    "os.environ['WANDB_PROJECT'] = ''\n",
    "os.environ['WANDB_ENTITY'] = ''"
   ]
  },
  {
   "cell_type": "code",
   "execution_count": 6,
   "metadata": {},
   "outputs": [],
   "source": [
    "api = wandb.Api()\n",
    "\n",
    "# Fetch the project\n",
    "project = f\"{os.environ['WANDB_ENTITY']}/{os.environ['WANDB_PROJECT']}\"\n",
    "\n",
    "# Fetch all runs for the project\n",
    "runs = api.runs(project)"
   ]
  },
  {
   "cell_type": "code",
   "execution_count": null,
   "metadata": {},
   "outputs": [],
   "source": [
    "for run in runs:\n",
    "    # Check if 'baseline' tag is present\n",
    "    if 'baseline' in run.tags:\n",
    "        print(run.id)"
   ]
  },
  {
   "cell_type": "code",
   "execution_count": 8,
   "metadata": {},
   "outputs": [],
   "source": [
    "baseline_run_id = ''\n",
    "new_run_id = ''"
   ]
  },
  {
   "cell_type": "code",
   "execution_count": 9,
   "metadata": {},
   "outputs": [],
   "source": [
    "report = wr.Report(\n",
    "    entity=os.environ['WANDB_ENTITY'],\n",
    "    project=os.environ['WANDB_PROJECT'],\n",
    "    title='Compare Runs',\n",
    "    description='Comparing runs to choose the best model'\n",
    ")"
   ]
  },
  {
   "cell_type": "code",
   "execution_count": null,
   "metadata": {},
   "outputs": [],
   "source": [
    "workspace = ws.Workspace(\n",
    "    name=\"Compare Runs\",\n",
    "    entity=os.environ['WANDB_ENTITY'],\n",
    "    project=os.environ['WANDB_PROJECT'],\n",
    "    sections=[\n",
    "        ws.Section(\n",
    "            name=\"Test Metrics Comparison\",\n",
    "            panels=[\n",
    "                wr.RunComparer(diff_only='split', layout={'h': 15, 'w':24})\n",
    "            ],\n",
    "            is_open=True,\n",
    "        ),\n",
    "    ],\n",
    "    runset_settings=ws.RunsetSettings(\n",
    "        # Filter to include only the specified run IDs\n",
    "        filters=[\n",
    "            ws.Metric(\"ID\").isin([baseline_run_id, new_run_id])\n",
    "        ]\n",
    "    ),\n",
    ")\n",
    "\n",
    "# Save or publish the report\n",
    "workspace.save()"
   ]
  },
  {
   "cell_type": "code",
   "execution_count": null,
   "metadata": {},
   "outputs": [],
   "source": [
    "workspace.url"
   ]
  }
 ],
 "metadata": {
  "kernelspec": {
   "display_name": "Python 3",
   "language": "python",
   "name": "python3"
  },
  "language_info": {
   "codemirror_mode": {
    "name": "ipython",
    "version": 3
   },
   "file_extension": ".py",
   "mimetype": "text/x-python",
   "name": "python",
   "nbconvert_exporter": "python",
   "pygments_lexer": "ipython3",
   "version": "3.12.1"
  }
 },
 "nbformat": 4,
 "nbformat_minor": 2
}
